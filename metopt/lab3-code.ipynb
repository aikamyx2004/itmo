{
  "nbformat": 4,
  "nbformat_minor": 0,
  "metadata": {
    "colab": {
      "provenance": []
    },
    "kernelspec": {
      "name": "python3",
      "display_name": "Python 3"
    },
    "language_info": {
      "name": "python"
    }
  },
  "cells": [
    {
      "cell_type": "code",
      "execution_count": null,
      "metadata": {
        "id": "tMTHIzDtPkd6"
      },
      "outputs": [],
      "source": [
        "import math\n",
        "from matplotlib import projections\n",
        "import numpy as np\n",
        "import matplotlib.pyplot as plt\n",
        "np.random.seed(0)"
      ]
    },
    {
      "cell_type": "markdown",
      "source": [
        "Метод Gauss-Newton"
      ],
      "metadata": {
        "id": "Igh_n6_GPq_f"
      }
    },
    {
      "cell_type": "code",
      "source": [
        "def poly_reg(dim):\n",
        "    return lambda w, x: sum([w[i] * x**i for i in range(dim)])\n",
        "\n",
        "\n",
        "def rloss(f, x, y):\n",
        "    return lambda w: np.array([(f(w, x[i]) - y[i]) for i in range(x.size)])\n",
        "\n",
        "\n",
        "def diff(f, w, i, x, dx=1e-4):\n",
        "    dw = np.zeros(w.size)\n",
        "    dw[i] = dx\n",
        "    return (f(w + dw, x) - f(w - dw, x)) / (2 * dx)\n",
        "\n",
        "\n",
        "def J(f, x):\n",
        "    return lambda w: np.array(\n",
        "        [np.array([diff(f, w, j, x[i]) for j in range(w.size)]) for i in range(x.size)]\n",
        "    )\n",
        "\n",
        "\n",
        "def GN(w, x, y, reg, epoch=100, min_step=1e-5):\n",
        "    r = rloss(reg, x, y)\n",
        "    jac = J(reg, x)\n",
        "    for i in range(epoch):\n",
        "        p = -np.linalg.pinv(jac(w).T @ jac(w)) @ jac(w).T @ r(w)\n",
        "        if np.linalg.norm(p) < min_step:\n",
        "            return w, i\n",
        "        w = w + p\n",
        "    return w, epoch"
      ],
      "metadata": {
        "id": "DWz7dtRLPpTO"
      },
      "execution_count": null,
      "outputs": []
    },
    {
      "cell_type": "markdown",
      "source": [
        "Метод Powell Dog Leg"
      ],
      "metadata": {
        "id": "sKZFOKxRP2lt"
      }
    },
    {
      "cell_type": "code",
      "source": [
        "def rloss_sq(f, x, y):\n",
        "    return lambda w: 1 / 2 * sum([(f(w, x[i]) - y[i]) ** 2 for i in range(x.size)])\n",
        "\n",
        "\n",
        "def deriv(f, w, i, h=1e-4):\n",
        "    dw = np.zeros(w.size)\n",
        "    dw[i] = h\n",
        "    return (f(w + dw) - f(w - dw)) / (2 * h)\n",
        "\n",
        "\n",
        "def J_2(f, dim: int):\n",
        "    return lambda w: np.array([deriv(f, w, i) for i in range(dim)])\n",
        "\n",
        "\n",
        "def sec_deriv(f, w, i, j, h=1e-4):\n",
        "    dw1 = np.zeros(w.size)\n",
        "    dw1[i] = h\n",
        "    dw2 = np.zeros(w.size)\n",
        "    dw2[j] = h\n",
        "    return (\n",
        "        f(w + dw1 + dw2) - f(w - dw1 + dw2) - f(w + dw1 - dw2) + f(w - dw1 - dw2)\n",
        "    ) / (4 * h * h)\n",
        "\n",
        "\n",
        "def H(f, dim):\n",
        "    def hessian(w):\n",
        "        h = np.zeros((dim, dim))\n",
        "        for i in range(dim):\n",
        "            for j in range(i + 1, dim):\n",
        "                h[i][j] = sec_deriv(f, w, i, j)\n",
        "        h = h + h.T\n",
        "        for i in range(dim):\n",
        "            h[i][i] = sec_deriv(f, w, i, i)\n",
        "        return h\n",
        "\n",
        "    return hessian\n",
        "\n",
        "\n",
        "def PDL(\n",
        "    w, x, y, reg, trust_region=1.0, max_trust_region=100.0, min_step=1e-4, epoch=300\n",
        "):\n",
        "    rlss = rloss_sq(reg, x, y)\n",
        "    jac = J_2(rlss, w.size)\n",
        "    hes = H(rlss, w.size)\n",
        "    for i in range(epoch):\n",
        "        g = jac(w)\n",
        "        B = hes(w)\n",
        "        pN = -np.linalg.pinv(B) @ g\n",
        "        if np.linalg.norm(pN) <= trust_region:\n",
        "            p = pN\n",
        "        else:\n",
        "            pGD = -((g @ g) / (g @ (B @ g))) * g\n",
        "            norm_pGD = np.linalg.norm(pGD)\n",
        "            if norm_pGD >= trust_region:\n",
        "                p = trust_region * pGD / norm_pGD\n",
        "            else:\n",
        "                dp = pN - pGD\n",
        "                tau = -((pGD - trust_region) @ dp) / (dp @ dp)\n",
        "                p = pGD + tau * dp\n",
        "            cooef = (rlss(w) - rlss(w + p)) / (-(g @ p + 0.5 * p @ (B @ p)) + (1e-8))\n",
        "            norm_p = np.linalg.norm(p)\n",
        "            if cooef < 0.25:\n",
        "                trust_region = 0.25 * norm_p\n",
        "            elif cooef > 0.75 and norm_p == trust_region:\n",
        "                trust_region = min(2.0 * trust_region, max_trust_region)\n",
        "            if cooef > 0.20:\n",
        "                w = w + p\n",
        "                if np.linalg.norm(g) < min_step:\n",
        "                    return w, i\n",
        "    return w, epoch"
      ],
      "metadata": {
        "id": "Opum-OgxP3UZ"
      },
      "execution_count": null,
      "outputs": []
    },
    {
      "cell_type": "markdown",
      "source": [
        "Примеры функций и работа алгоритмов выше"
      ],
      "metadata": {
        "id": "-Srb8gkJQNSR"
      }
    },
    {
      "cell_type": "code",
      "source": [
        "f1 = lambda x: np.exp(x / 2) + 3 * np.sin(x) - x\n",
        "regf1 = lambda w, x: np.exp(w[0] * x) + w[1] * np.sin(x) + w[2] * x\n",
        "f2 = lambda x: x**2 - 3 * x + 4\n",
        "\n",
        "\n",
        "def get_funct_val(f, lbound, rbound, d):\n",
        "    x = np.arange(lbound, rbound)\n",
        "    x = x\n",
        "    y = f(x)\n",
        "    y_with_noise = y + (np.random.randint(2 * d, size=rbound - lbound) - d)\n",
        "    return x, y, y_with_noise\n",
        "\n",
        "\n",
        "x, y, val = get_funct_val(f1, -40, 10, 3)\n",
        "\n",
        "plt.axis((-40, 10, -50, 100))\n",
        "plt.plot(x, y, \"o-\", label=\"function\")\n",
        "plt.plot(x, val, \"o\", label=\"input values\")\n",
        "\n",
        "\n",
        "regGN = regf1\n",
        "ans, ep = GN(np.array([0.7, 0.7, 0.7]), x, val, regGN)\n",
        "print(ans, ep)\n",
        "yval = regGN(ans, x)\n",
        "plt.plot(x, yval, \"-\", label=\"NG reg\")\n",
        "\n",
        "regPDL = regf1\n",
        "ans, ep = PDL(np.array([0.7, 0.7, 0.7]), x, val, regPDL)\n",
        "print(ans, ep)\n",
        "yval = regPDL(ans, x)\n",
        "plt.plot(x, yval, \"-\", label=\"PDL reg\")\n",
        "\n",
        "\n",
        "plt.legend()\n",
        "plt.show"
      ],
      "metadata": {
        "id": "O5F1D85-QVL8"
      },
      "execution_count": null,
      "outputs": []
    },
    {
      "cell_type": "code",
      "source": [
        "x, y, val = get_funct_val(f2, -40, 40, 100)\n",
        "\n",
        "plt.axis((-50, 50, -10, 1000))\n",
        "plt.plot(x, y, \"o-\", label=\"function\")\n",
        "plt.plot(x, val, \"o\", label=\"input values\")\n",
        "\n",
        "\n",
        "regGN = poly_reg(3)\n",
        "ans, ep = GN(np.array([1, 1, 1]), x, val, regGN)\n",
        "print(ans, ep)\n",
        "yval = regGN(ans, x)\n",
        "plt.plot(x, yval, \"-\", label=\"NG reg\")\n",
        "\n",
        "regPDL = poly_reg(3)\n",
        "ans, ep = PDL(np.array([1, 1, 1]), x, val, regPDL)\n",
        "print(ans, ep)\n",
        "yval = regPDL(ans, x)\n",
        "plt.plot(x, yval, \"-\", label=\"PDL reg\")\n",
        "\n",
        "\n",
        "plt.legend()\n",
        "plt.show"
      ],
      "metadata": {
        "id": "2VnLeIIkQVan"
      },
      "execution_count": null,
      "outputs": []
    },
    {
      "cell_type": "markdown",
      "source": [
        "Метод BFGS"
      ],
      "metadata": {
        "id": "ozCYHYDVQrql"
      }
    },
    {
      "cell_type": "code",
      "source": [
        "def num_dif(f, x, i, h=1e-5):\n",
        "    dx = np.zeros(x.size)\n",
        "    dx[i] = dx[i] + h\n",
        "    return ((f(*(x + dx)) - f(*(x - dx)))) / (2 * h)\n",
        "\n",
        "\n",
        "def gradient(f, dim):\n",
        "    return lambda x: np.array([num_dif(f, x, i) for i in range(dim)])\n",
        "\n",
        "\n",
        "def not_wolfe(f, x, df, p, alpha, c1=1e-4, c2=0.9):\n",
        "    return (f(*(x + alpha * -p)) > f(*x) - c1 * alpha * p @ p) or (\n",
        "        p @ df(x + alpha * -p) > c2 * p @ p\n",
        "    )\n",
        "\n",
        "\n",
        "def BFGS(f, x, min_step=1e-5, epoch=300):\n",
        "    data = np.zeros((epoch, x.size))\n",
        "    I = np.eye(x.size)\n",
        "    Hk = I\n",
        "    grad_f = gradient(f, x.size)\n",
        "    grad = grad_f(x)\n",
        "    for i in range(epoch):\n",
        "        p = -Hk @ grad\n",
        "        alpha = 1\n",
        "        while not_wolfe(f, x, grad_f, grad, alpha):\n",
        "            alpha /= 2\n",
        "            if alpha == 0:\n",
        "                alpha = 1e-12\n",
        "                break\n",
        "        prev_x = x\n",
        "        prev_grad = grad\n",
        "        data[i] = x\n",
        "        x = x + alpha * p\n",
        "        grad = grad_f(x)\n",
        "        s = x - prev_x\n",
        "        y = grad - prev_grad\n",
        "        if np.linalg.norm(s) < min_step:\n",
        "            return data, x, i\n",
        "        rho = 1.0 / (y.T @ s)\n",
        "        Hk = (I - rho * np.outer(s, y)) @ Hk @ (\n",
        "            I - rho * np.outer(y, s)\n",
        "        ) + rho * np.outer(s, s)\n",
        "    return data, x, epoch"
      ],
      "metadata": {
        "id": "bOqIFu4sQtnd"
      },
      "execution_count": null,
      "outputs": []
    },
    {
      "cell_type": "markdown",
      "source": [
        "Примеры работы BFGS"
      ],
      "metadata": {
        "id": "7PQxQdWLQt5X"
      }
    },
    {
      "cell_type": "code",
      "source": [
        "f3 = lambda x, y: (1 - x) ** 2 + 10 * (y - x * x) ** 2\n",
        "f4 = (\n",
        "    lambda x, y, z, t: (x - y) ** 2\n",
        "    + np.sin(2 * z + t) ** 2\n",
        "    + t**2 * (np.exp(y + 2 * z)) ** 2\n",
        ")\n",
        "data, ans, ep = BFGS(f3, np.zeros(2))\n",
        "x = np.arange(ep)\n",
        "val = np.zeros(ep)\n",
        "print(ans, f3(*ans), ep)\n",
        "for i in range(ep):\n",
        "    val[i] = f3(*data[i])\n",
        "plt.plot(x, val, \"o-\", label=\"function\")\n",
        "plt.xlabel(\"Эпоха\")\n",
        "plt.ylabel(\"Значение минимума\")\n",
        "plt.legend()\n",
        "plt.show\n"
      ],
      "metadata": {
        "colab": {
          "base_uri": "https://localhost:8080/",
          "height": 484
        },
        "id": "iBXx-taCQxVI",
        "outputId": "36821015-e3e2-40b8-810d-f1f7d765da5c"
      },
      "execution_count": null,
      "outputs": [
        {
          "output_type": "stream",
          "name": "stdout",
          "text": [
            "[0.99178148 0.98291826] 7.261707667821357e-05 300\n"
          ]
        },
        {
          "output_type": "execute_result",
          "data": {
            "text/plain": [
              "<function matplotlib.pyplot.show(close=None, block=None)>"
            ]
          },
          "metadata": {},
          "execution_count": 7
        },
        {
          "output_type": "display_data",
          "data": {
            "text/plain": [
              "<Figure size 640x480 with 1 Axes>"
            ],
            "image/png": "[encoded data removed]"
          },
          "metadata": {}
        }
      ]
    },
    {
      "cell_type": "markdown",
      "source": [
        "Метод LBFGS"
      ],
      "metadata": {
        "id": "VpKGSmZ0QyUH"
      }
    },
    {
      "cell_type": "code",
      "source": [
        "def num_dif(f, x, i, h=1e-5):\n",
        "    dx = np.zeros(x.size)\n",
        "    dx[i] = dx[i] + h\n",
        "    return ((f(*(x + dx)) - f(*(x - dx)))) / (2 * h)\n",
        "\n",
        "\n",
        "def gradient(f, dim):\n",
        "    return lambda x: np.array([num_dif(f, x, i) for i in range(dim)])\n",
        "\n",
        "\n",
        "def not_wolfe(f, x, df, p, alpha, c1=1e-4, c2=0.9):\n",
        "    return (f(*(x + alpha * -p)) > f(*x) - c1 * alpha * p @ p) or (\n",
        "        p @ df(x + alpha * -p) > c2 * p @ p\n",
        "    )\n",
        "\n",
        "\n",
        "class SYqueue:\n",
        "    def __init__(self, queue):\n",
        "        self.queue = queue\n",
        "\n",
        "    def s(self, i):\n",
        "        return self.queue[i][0]\n",
        "\n",
        "    def y(self, i):\n",
        "        return self.queue[i][1]\n",
        "\n",
        "    def add(self, elem):\n",
        "        return self.queue.append(elem)\n",
        "\n",
        "    def pop(self):\n",
        "        return self.queue.pop(0)\n",
        "\n",
        "    def size(self):\n",
        "        return len(self.queue)\n",
        "\n",
        "\n",
        "def rho(s, y):\n",
        "    return 1.0 / y.T @ s\n",
        "\n",
        "\n",
        "def LBFGS(\n",
        "    f,\n",
        "    x,\n",
        "    m_batch_size=30,\n",
        "    epoch=300,\n",
        "    min_step=1e-5,\n",
        "):\n",
        "    data = np.zeros((epoch, x.size))\n",
        "    I = np.eye(x.size)\n",
        "    grad_f = gradient(f, x.size)\n",
        "    grad = grad_f(x)\n",
        "    Hp = -grad\n",
        "    Q = SYqueue([])\n",
        "    for i in range(epoch):\n",
        "        alpha = 1\n",
        "        while not_wolfe(f, x, grad_f, grad, alpha):\n",
        "            alpha /= 2\n",
        "            if alpha == 0:\n",
        "                alpha = 1e-12\n",
        "                break\n",
        "        data[i] = x\n",
        "        prev_x = x\n",
        "        prev_grad = grad\n",
        "        x = x + alpha * Hp\n",
        "        grad = grad_f(x)\n",
        "        s = x - prev_x\n",
        "        y = grad - prev_grad\n",
        "        if np.linalg.norm(s) < min_step:\n",
        "            return data, x, i\n",
        "        if abs(y.T @ s) == 0.0:\n",
        "            continue\n",
        "        Q.add([s, y])\n",
        "        if i >= m_batch_size:\n",
        "            Q.pop()\n",
        "        q = grad\n",
        "        G = []\n",
        "        for k in range(Q.size() - 1, -1, -1):\n",
        "            g = rho(Q.s(k), Q.y(k)) * Q.s(k) @ q\n",
        "            G.insert(0, g)\n",
        "            q = q - g * Q.y(k)\n",
        "        r = q * (s @ y) / (y @ y)\n",
        "        for k in range(0, Q.size(), 1):\n",
        "            betta = rho(Q.s(k), Q.y(k)) * Q.y(k) @ r\n",
        "            r = r + Q.s(k) * (G[k] - betta)\n",
        "        Hp = -r\n",
        "    return data, x, epoch\n"
      ],
      "metadata": {
        "id": "MzLSUk4gQ6VA"
      },
      "execution_count": null,
      "outputs": []
    },
    {
      "cell_type": "markdown",
      "source": [
        "Примеры работы LBFGS"
      ],
      "metadata": {
        "id": "K5HrrRt5Q7C0"
      }
    },
    {
      "cell_type": "code",
      "source": [
        "f3 = lambda x, y: (1 - x) ** 2 + 20 * (y - x * x) ** 2\n",
        "f4 = (\n",
        "    lambda x, y, z, t: (x - y) ** 2\n",
        "    + np.sin(2 * z + t) ** 2\n",
        "    + t**2 * (np.exp(y + 2 * z)) ** 2\n",
        ")\n",
        "data, ans, ep = LBFGS(f3, np.zeros(2))\n",
        "x = np.arange(ep)\n",
        "val = np.zeros(ep)\n",
        "print(ans, f3(*ans), ep)\n",
        "for i in range(ep):\n",
        "    val[i] = f3(*data[i])\n",
        "plt.plot(x, val, \"-\", label=\"LBFGS\")\n",
        "\n",
        "data, ans, ep = BFGS(f3, np.zeros(2))\n",
        "x = np.arange(ep)\n",
        "val = np.zeros(ep)\n",
        "print(ans, f3(*ans), ep)\n",
        "for i in range(ep):\n",
        "    val[i] = f3(*data[i])\n",
        "plt.plot(x, val, \"-\", label=\"BFGS\")\n",
        "\n",
        "plt.xlabel(\"Эпоха\")\n",
        "plt.ylabel(\"Значение минимума\")\n",
        "plt.legend()\n",
        "plt.show\n"
      ],
      "metadata": {
        "colab": {
          "base_uri": "https://localhost:8080/",
          "height": 501
        },
        "id": "1pKfhg6GQ-K2",
        "outputId": "d98faa41-145a-4456-a2a2-8b6fd70bfd90"
      },
      "execution_count": null,
      "outputs": [
        {
          "output_type": "stream",
          "name": "stdout",
          "text": [
            "[0.8277842  0.67949133] 0.030316166491942714 300\n",
            "[0.99020038 0.9801906 ] 9.79076618030884e-05 300\n"
          ]
        },
        {
          "output_type": "execute_result",
          "data": {
            "text/plain": [
              "<function matplotlib.pyplot.show(close=None, block=None)>"
            ]
          },
          "metadata": {},
          "execution_count": 9
        },
        {
          "output_type": "display_data",
          "data": {
            "text/plain": [
              "<Figure size 640x480 with 1 Axes>"
            ],
            "image/png": "[encoded data removed]"
          },
          "metadata": {}
        }
      ]
    }
  ]
}